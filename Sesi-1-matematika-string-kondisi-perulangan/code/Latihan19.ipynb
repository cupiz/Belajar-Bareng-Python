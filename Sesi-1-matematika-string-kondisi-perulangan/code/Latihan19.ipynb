{
 "cells": [
  {
   "cell_type": "code",
   "execution_count": 1,
   "metadata": {},
   "outputs": [
    {
     "name": "stdout",
     "output_type": "stream",
     "text": [
      "Satu kamar tidur di Jakarta terdaftar seharga Rp 500.000.000\n",
      "Masukkan penawaran pertama anda.\n",
      "500000000\n",
      "Masukkan penawaran terbaik anda.\n",
      "700000000\n",
      "Berapa banyak lagi yang ingin anda tawarkan setiap kali?\n",
      "50000000\n",
      "Maaf, Anda menawarkan 500000000 belum diterima.\n",
      "Maaf, Anda menawarkan 550000000 belum diterima.\n",
      "Maaf, Anda menawarkan 600000000 belum diterima.\n",
      "Tawaran anda untuk 650000000 telah diterima!\n"
     ]
    }
   ],
   "source": [
    "print('Satu kamar tidur di Jakarta terdaftar seharga Rp 500.000.000')\n",
    "print('Masukkan penawaran pertama anda.')\n",
    "penawaran = abs(int(input()))\n",
    "print('Masukkan penawaran terbaik anda.')\n",
    "terbaik = abs(int(input()))\n",
    "print('Berapa banyak lagi yang ingin anda tawarkan setiap kali?')\n",
    "increment = abs(int(input()))\n",
    "penawaran_disetujui = False\n",
    "while penawaran <= terbaik:  \n",
    "    if penawaran >= 650000000:\n",
    "        penawaran_disetujui = True\n",
    "        print('Tawaran anda untuk', penawaran, 'telah diterima!')\n",
    "        break\n",
    "    print('Maaf, Anda menawarkan', penawaran, 'belum diterima.' )\n",
    "    penawaran += increment\n"
   ]
  },
  {
   "cell_type": "code",
   "execution_count": null,
   "metadata": {},
   "outputs": [],
   "source": []
  }
 ],
 "metadata": {
  "kernelspec": {
   "display_name": "Python 3",
   "language": "python",
   "name": "python3"
  },
  "language_info": {
   "codemirror_mode": {
    "name": "ipython",
    "version": 3
   },
   "file_extension": ".py",
   "mimetype": "text/x-python",
   "name": "python",
   "nbconvert_exporter": "python",
   "pygments_lexer": "ipython3",
   "version": "3.7.6"
  }
 },
 "nbformat": 4,
 "nbformat_minor": 2
}
