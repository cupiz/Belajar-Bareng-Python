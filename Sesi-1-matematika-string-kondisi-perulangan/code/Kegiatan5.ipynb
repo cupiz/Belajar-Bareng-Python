{
 "cells": [
  {
   "cell_type": "code",
   "execution_count": 4,
   "metadata": {},
   "outputs": [
    {
     "name": "stdout",
     "output_type": "stream",
     "text": [
      "Siapa namamu?\n"
     ]
    }
   ],
   "source": [
    "print('Siapa namamu?')"
   ]
  },
  {
   "cell_type": "code",
   "execution_count": 5,
   "metadata": {},
   "outputs": [
    {
     "name": "stdout",
     "output_type": "stream",
     "text": [
      "Iqbal\n",
      "Menarik. Namaku juga Iqbal\n"
     ]
    }
   ],
   "source": [
    "name = input() \n",
    "print('Menarik. Namaku juga', name) "
   ]
  },
  {
   "cell_type": "code",
   "execution_count": 6,
   "metadata": {},
   "outputs": [
    {
     "name": "stdout",
     "output_type": "stream",
     "text": [
      "Pernahkah kamu memikirkan tentang lubang hitam hari ini?\n"
     ]
    }
   ],
   "source": [
    "print('Pernahkah kamu memikirkan tentang lubang hitam hari ini?')"
   ]
  },
  {
   "cell_type": "code",
   "execution_count": 7,
   "metadata": {},
   "outputs": [
    {
     "name": "stdout",
     "output_type": "stream",
     "text": [
      "tidak\n",
      "Saya sangat senang kamu berkata tidak . Aku berpikir hal yang sama.\n"
     ]
    }
   ],
   "source": [
    "yes_no = input() \n",
    "print('Saya sangat senang kamu berkata', yes_no, '. Aku berpikir hal yang sama.')"
   ]
  },
  {
   "cell_type": "code",
   "execution_count": 8,
   "metadata": {},
   "outputs": [
    {
     "name": "stdout",
     "output_type": "stream",
     "text": [
      "Kita adalah roh yang sama, Iqbal . Nanti ngobrol lagi.\n"
     ]
    }
   ],
   "source": [
    "print('Kita adalah roh yang sama,', name, '. Nanti ngobrol lagi.')"
   ]
  },
  {
   "cell_type": "code",
   "execution_count": 13,
   "metadata": {},
   "outputs": [
    {
     "name": "stdout",
     "output_type": "stream",
     "text": [
      "Seberapa cerdas kamu? 0 sangat bodoh. Dan 10 adalah jenius\n",
      "5\n",
      "Saya pikir kamu sebenarnya lebih pintar.\n",
      "Berapa banyak waktu yang kamu habiskan untuk online? 0 tidak ada dan 10 adalah 24 jam sehari.\n",
      "10\n",
      "Kupikir cuma aku.\n"
     ]
    }
   ],
   "source": [
    "print('Seberapa cerdas kamu? 0 sangat bodoh. Dan 10 adalah jenius') \n",
    "smarts = input()\n",
    "smarts = int(smarts)\n",
    "if smarts <= 3:\n",
    "   print('Aku gak percaya kamu.')\n",
    "   print('Seberapa buruk hari yang kamu alami? 0 adalah yang terburuk, dan 10 adalah yang terbaik.')\n",
    "   day = input()\n",
    "   day = int(day)\n",
    "   if day <= 5:\n",
    "       print('Jika saya manusia, saya akan memelukmu.')\n",
    "   else:\n",
    "       print('Mungkin aku harus mencoba mendekatimu.')\n",
    "elif smarts <= 6:\n",
    "   print('Saya pikir kamu sebenarnya lebih pintar.')\n",
    "   print('Berapa banyak waktu yang kamu habiskan untuk online? 0 tidak ada dan 10 adalah 24 jam sehari.')\n",
    "   hours = input()\n",
    "   hours = int(hours)\n",
    "   if hours <= 4:\n",
    "       print('Wah gawat bahaya.')\n",
    "   else:\n",
    "      print('Kupikir cuma aku.')\n",
    "elif smarts <= 8:\n",
    "   print('Apakah kamu manusia betulan? Tunggu. Jangan jawab itu.')\n",
    "   print('Seberapa manusia anda? 0 tidak sama sekali dan 10 adalah manusia sepenuhnya.')\n",
    "   human = input()\n",
    "   human = int(human)\n",
    "   if human <= 5:\n",
    "       print('Aku tahu itu.')\n",
    "   else:\n",
    "       print('Aku pikir hubungan ini sudah berakhir.')\n",
    "else:\n",
    "   print('Begitu ... Berapa banyak sistem operasi yang kamu jalankan?')\n",
    "   os = input()\n",
    "   os = int(os)\n",
    "   if os <= 2:\n",
    "      print('Untung anda mengikuti pelajaran ini.')\n",
    "   else:\n",
    "      print('Apa ini? Sebuah kompetisi?')"
   ]
  },
  {
   "cell_type": "code",
   "execution_count": null,
   "metadata": {},
   "outputs": [],
   "source": []
  },
  {
   "cell_type": "code",
   "execution_count": null,
   "metadata": {},
   "outputs": [],
   "source": []
  }
 ],
 "metadata": {
  "kernelspec": {
   "display_name": "Python 3",
   "language": "python",
   "name": "python3"
  },
  "language_info": {
   "codemirror_mode": {
    "name": "ipython",
    "version": 3
   },
   "file_extension": ".py",
   "mimetype": "text/x-python",
   "name": "python",
   "nbconvert_exporter": "python",
   "pygments_lexer": "ipython3",
   "version": "3.7.6"
  }
 },
 "nbformat": 4,
 "nbformat_minor": 2
}
