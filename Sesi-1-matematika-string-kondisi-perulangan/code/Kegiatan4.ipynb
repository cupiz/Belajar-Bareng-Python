{
 "cells": [
  {
   "cell_type": "code",
   "execution_count": 1,
   "metadata": {},
   "outputs": [
    {
     "name": "stdout",
     "output_type": "stream",
     "text": [
      "Kelipatan Persekutuan Terkecil dari 24 dan 36 adalah 72 .\n"
     ]
    }
   ],
   "source": [
    ">>> # Temukan Kelipatan Persekutuan Terkecil dari Dua Pembagi\n",
    ">>> counting = True\n",
    ">>> first_divisor = 24\n",
    ">>> second_divisor = 36\n",
    ">>> i = 1\n",
    ">>> while counting:\n",
    ">>>    if i % first_divisor == 0 and i % second_divisor == 0:\n",
    ">>>        print('Kelipatan Persekutuan Terkecil dari', first_divisor, 'dan', second_divisor, 'adalah', i, '.')\n",
    ">>>        break\n",
    ">>>    i += 1"
   ]
  },
  {
   "cell_type": "code",
   "execution_count": null,
   "metadata": {},
   "outputs": [],
   "source": []
  }
 ],
 "metadata": {
  "kernelspec": {
   "display_name": "Python 3",
   "language": "python",
   "name": "python3"
  },
  "language_info": {
   "codemirror_mode": {
    "name": "ipython",
    "version": 3
   },
   "file_extension": ".py",
   "mimetype": "text/x-python",
   "name": "python",
   "nbconvert_exporter": "python",
   "pygments_lexer": "ipython3",
   "version": "3.7.6"
  }
 },
 "nbformat": 4,
 "nbformat_minor": 2
}
