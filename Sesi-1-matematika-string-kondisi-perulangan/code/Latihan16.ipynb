{
 "cells": [
  {
   "cell_type": "code",
   "execution_count": 4,
   "metadata": {},
   "outputs": [
    {
     "name": "stdout",
     "output_type": "stream",
     "text": [
      "Setidaknya kita dapat memilih.\n",
      "Poker harus menunggu.\n"
     ]
    }
   ],
   "source": [
    "usia = 20\n",
    "if usia >= 18 and usia < 21 :\n",
    "      print('Setidaknya kita dapat memilih.')\n",
    "      print('Poker harus menunggu.')"
   ]
  },
  {
   "cell_type": "code",
   "execution_count": 5,
   "metadata": {},
   "outputs": [
    {
     "name": "stdout",
     "output_type": "stream",
     "text": [
      "Kita bisa memilih.\n"
     ]
    }
   ],
   "source": [
    "if usia >= 18 :\n",
    "    print('Kita bisa memilih.') \n",
    "    if usia >= 21 : \n",
    "        print ('Kita bisa bermain poker.')"
   ]
  },
  {
   "cell_type": "code",
   "execution_count": null,
   "metadata": {},
   "outputs": [],
   "source": []
  }
 ],
 "metadata": {
  "kernelspec": {
   "display_name": "Python 3",
   "language": "python",
   "name": "python3"
  },
  "language_info": {
   "codemirror_mode": {
    "name": "ipython",
    "version": 3
   },
   "file_extension": ".py",
   "mimetype": "text/x-python",
   "name": "python",
   "nbconvert_exporter": "python",
   "pygments_lexer": "ipython3",
   "version": "3.7.6"
  }
 },
 "nbformat": 4,
 "nbformat_minor": 2
}
