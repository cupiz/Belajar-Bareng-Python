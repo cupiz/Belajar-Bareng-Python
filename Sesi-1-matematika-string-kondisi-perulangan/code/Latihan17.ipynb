{
 "cells": [
  {
   "cell_type": "code",
   "execution_count": 1,
   "metadata": {},
   "outputs": [
    {
     "name": "stdout",
     "output_type": "stream",
     "text": [
      "Selamat datang di program pemungutan suara kami.\n"
     ]
    }
   ],
   "source": [
    "usia = 20\n",
    "if usia < 18:\n",
    "  print('Kamu belum cukup umur untuk memilih.')\n",
    "else:\n",
    "  print('Selamat datang di program pemungutan suara kami.')"
   ]
  },
  {
   "cell_type": "code",
   "execution_count": 2,
   "metadata": {},
   "outputs": [
    {
     "name": "stdout",
     "output_type": "stream",
     "text": [
      "Selamat datang di program pemungutan suara kami.\n"
     ]
    }
   ],
   "source": [
    "if usia >= 18:\n",
    "    print('Selamat datang di program pemungutan suara kami.')\n",
    "else:\n",
    "    print('Kamu belum cukup umur untuk memilih.')"
   ]
  },
  {
   "cell_type": "code",
   "execution_count": null,
   "metadata": {},
   "outputs": [],
   "source": []
  }
 ],
 "metadata": {
  "kernelspec": {
   "display_name": "Python 3",
   "language": "python",
   "name": "python3"
  },
  "language_info": {
   "codemirror_mode": {
    "name": "ipython",
    "version": 3
   },
   "file_extension": ".py",
   "mimetype": "text/x-python",
   "name": "python",
   "nbconvert_exporter": "python",
   "pygments_lexer": "ipython3",
   "version": "3.7.6"
  }
 },
 "nbformat": 4,
 "nbformat_minor": 2
}
