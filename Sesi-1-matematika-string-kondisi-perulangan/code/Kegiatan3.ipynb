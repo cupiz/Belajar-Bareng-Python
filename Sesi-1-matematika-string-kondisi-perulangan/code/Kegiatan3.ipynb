{
 "cells": [
  {
   "cell_type": "code",
   "execution_count": 1,
   "metadata": {},
   "outputs": [
    {
     "name": "stdout",
     "output_type": "stream",
     "text": [
      "Bagaimana kamu menilai harimu dalam skala 1 sampai 10?\n"
     ]
    }
   ],
   "source": [
    "# Pilih pertanyaan untuk ditanyakan\n",
    "print('Bagaimana kamu menilai harimu dalam skala 1 sampai 10?')"
   ]
  },
  {
   "cell_type": "code",
   "execution_count": 2,
   "metadata": {},
   "outputs": [
    {
     "name": "stdout",
     "output_type": "stream",
     "text": [
      "9\n"
     ]
    }
   ],
   "source": [
    "# Atur variabel sama dengan input()\n",
    "day_rating = input()"
   ]
  },
  {
   "cell_type": "code",
   "execution_count": 5,
   "metadata": {},
   "outputs": [
    {
     "name": "stdout",
     "output_type": "stream",
     "text": [
      "Kamu merasa seperti 9 hari ini. Terima kasih telah memberi tahu saya\n"
     ]
    }
   ],
   "source": [
    "# Pilih output yang sesuai.\n",
    "print ('Kamu merasa seperti ' + day_rating + ' hari ini. Terima kasih telah memberi tahu saya')"
   ]
  },
  {
   "cell_type": "code",
   "execution_count": null,
   "metadata": {},
   "outputs": [],
   "source": []
  }
 ],
 "metadata": {
  "kernelspec": {
   "display_name": "Python 3",
   "language": "python",
   "name": "python3"
  },
  "language_info": {
   "codemirror_mode": {
    "name": "ipython",
    "version": 3
   },
   "file_extension": ".py",
   "mimetype": "text/x-python",
   "name": "python",
   "nbconvert_exporter": "python",
   "pygments_lexer": "ipython3",
   "version": "3.7.6"
  }
 },
 "nbformat": 4,
 "nbformat_minor": 2
}
